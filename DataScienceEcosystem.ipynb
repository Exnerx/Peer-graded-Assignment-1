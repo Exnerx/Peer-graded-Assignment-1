{
 "cells": [
  {
   "cell_type": "markdown",
   "id": "8e60f7ce-e9e8-478f-800d-133b4d69ea93",
   "metadata": {},
   "source": [
    "Data Science Tools and Ecosystem"
   ]
  },
  {
   "cell_type": "markdown",
   "id": "02fa4168-5c47-44ec-938a-2fa7afdb271d",
   "metadata": {},
   "source": [
    "In this notebook, Data Science Tools and Ecosystem are summarized."
   ]
  },
  {
   "cell_type": "markdown",
   "id": "52e89e9e-6627-47c4-8754-3904589ebc70",
   "metadata": {},
   "source": [
    "Objectives:\n",
    "\n",
    "* JavaScript\n",
    "* R\n",
    "* Python"
   ]
  },
  {
   "cell_type": "markdown",
   "id": "d7591d2c-9686-4233-83ff-59a26ed90e17",
   "metadata": {},
   "source": [
    "Some of the popular languages that Data Scientists use are:\n",
    "\n",
    "1. Python\n",
    "2. R\n",
    "3. JavaScript"
   ]
  },
  {
   "cell_type": "markdown",
   "id": "6761e483-85b1-4445-9c5d-7d2d8ed1dae8",
   "metadata": {},
   "source": [
    "Some of the commonly used libraries used by Data Scientists include:\n",
    "\n",
    "1. Matplotlib\n",
    "2. Pandas\n",
    "3. NumPy"
   ]
  },
  {
   "cell_type": "markdown",
   "id": "51783d4e-d16b-4d9f-af97-e8a7ed5a8ff5",
   "metadata": {},
   "source": [
    "| Data Science Tools |\n",
    "\n",
    " Jupyter Notebook   \n",
    " RStudio            \n",
    " VS Code            \n"
   ]
  },
  {
   "cell_type": "markdown",
   "id": "bacc2588-2d4b-48eb-b881-e63443898455",
   "metadata": {
    "tags": []
   },
   "source": [
    "Below are a few examples of evaluating arithmetic expressions in Python"
   ]
  },
  {
   "cell_type": "code",
   "execution_count": 1,
   "id": "05421684-0294-461f-bde8-df0bb9c6ebad",
   "metadata": {
    "tags": []
   },
   "outputs": [
    {
     "data": {
      "text/plain": [
       "17"
      ]
     },
     "execution_count": 1,
     "metadata": {},
     "output_type": "execute_result"
    }
   ],
   "source": [
    "## This a simple arithmetic expression to mutiply then add integers\n",
    "\n",
    "(3*4)+5"
   ]
  },
  {
   "cell_type": "code",
   "execution_count": 2,
   "id": "0eb2226a-d1e7-4e8b-b730-8918a6c72dd6",
   "metadata": {
    "tags": []
   },
   "outputs": [
    {
     "data": {
      "text/plain": [
       "3.3333333333333335"
      ]
     },
     "execution_count": 2,
     "metadata": {},
     "output_type": "execute_result"
    }
   ],
   "source": [
    "##  This will convert 200 minutes to hours by diving by 60\n",
    "\n",
    "200/60"
   ]
  },
  {
   "cell_type": "markdown",
   "id": "458d693d-6d3a-4386-9c8d-f465a59fa49e",
   "metadata": {},
   "source": [
    "Author\n",
    "\n",
    "Exner"
   ]
  },
  {
   "cell_type": "markdown",
   "id": "0ba66c81-9487-4bf7-9591-230279ac3f79",
   "metadata": {},
   "source": []
  },
  {
   "cell_type": "code",
   "execution_count": null,
   "id": "18a030ff-7e6c-49e3-bf59-cc82c5c76908",
   "metadata": {},
   "outputs": [],
   "source": []
  }
 ],
 "metadata": {
  "kernelspec": {
   "display_name": "Python",
   "language": "python",
   "name": "conda-env-python-py"
  },
  "language_info": {
   "codemirror_mode": {
    "name": "ipython",
    "version": 3
   },
   "file_extension": ".py",
   "mimetype": "text/x-python",
   "name": "python",
   "nbconvert_exporter": "python",
   "pygments_lexer": "ipython3",
   "version": "3.7.12"
  }
 },
 "nbformat": 4,
 "nbformat_minor": 5
}
